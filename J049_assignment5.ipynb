{
 "cells": [
  {
   "cell_type": "code",
   "execution_count": 2,
   "metadata": {},
   "outputs": [],
   "source": [
    "import pandas as pd\n",
    "import numpy as np\n",
    "import re\n",
    "import nltk\n",
    "from nltk.stem import PorterStemmer\n",
    "from sklearn.feature_extraction.text import CountVectorizer, TfidfVectorizer\n",
    "from sklearn.model_selection import train_test_split\n",
    "from sklearn.preprocessing import LabelEncoder\n",
    "from sklearn.naive_bayes import MultinomialNB\n",
    "from sklearn.ensemble import RandomForestClassifier\n",
    "from xgboost import XGBClassifier\n",
    "from sklearn.metrics import accuracy_score"
   ]
  },
  {
   "cell_type": "code",
   "execution_count": 3,
   "metadata": {},
   "outputs": [],
   "source": [
    "\n",
    "# Load dataset\n",
    "df = pd.read_csv(\"spam.csv\", encoding='latin-1')\n",
    "df = df[['v1', 'v2']]\n",
    "df.columns = ['label', 'text']"
   ]
  },
  {
   "cell_type": "code",
   "execution_count": 4,
   "metadata": {},
   "outputs": [],
   "source": [
    "# Text cleaning function\n",
    "def clean_text(text):\n",
    "    text = text.lower()\n",
    "    text = re.sub(r'[^a-z\\s]', '', text)  # Remove punctuation and numbers\n",
    "    stemmer = PorterStemmer()\n",
    "    text = ' '.join([stemmer.stem(word) for word in text.split()])\n",
    "    return text\n",
    "\n",
    "# Apply text cleaning\n",
    "df[\"cleaned_text\"] = df[\"text\"].apply(clean_text)\n",
    "\n",
    "# Encode labels (ham -> 0, spam -> 1)\n",
    "label_encoder = LabelEncoder()\n",
    "y = label_encoder.fit_transform(df[\"label\"])"
   ]
  },
  {
   "cell_type": "code",
   "execution_count": 5,
   "metadata": {},
   "outputs": [],
   "source": [
    "\n",
    "# Feature extraction (BoW & TF-IDF)\n",
    "bow_vectorizer = CountVectorizer()\n",
    "tfidf_vectorizer = TfidfVectorizer()\n",
    "\n",
    "X_bow_raw = bow_vectorizer.fit_transform(df[\"text\"])\n",
    "X_bow_cleaned = bow_vectorizer.fit_transform(df[\"cleaned_text\"])\n",
    "X_tfidf_raw = tfidf_vectorizer.fit_transform(df[\"text\"])\n",
    "X_tfidf_cleaned = tfidf_vectorizer.fit_transform(df[\"cleaned_text\"])"
   ]
  },
  {
   "cell_type": "code",
   "execution_count": 6,
   "metadata": {},
   "outputs": [],
   "source": [
    "# Split data for training & testing\n",
    "X_train_bow_raw, X_test_bow_raw, y_train, y_test = train_test_split(X_bow_raw, y, test_size=0.2, random_state=42)\n",
    "X_train_bow_cleaned, X_test_bow_cleaned, _, _ = train_test_split(X_bow_cleaned, y, test_size=0.2, random_state=42)\n",
    "X_train_tfidf_raw, X_test_tfidf_raw, _, _ = train_test_split(X_tfidf_raw, y, test_size=0.2, random_state=42)\n",
    "X_train_tfidf_cleaned, X_test_tfidf_cleaned, _, _ = train_test_split(X_tfidf_cleaned, y, test_size=0.2, random_state=42)"
   ]
  },
  {
   "cell_type": "code",
   "execution_count": 7,
   "metadata": {},
   "outputs": [],
   "source": [
    "# Train and evaluate models\n",
    "def train_and_evaluate(model, X_train, X_test, y_train, y_test):\n",
    "    model.fit(X_train, y_train)\n",
    "    y_pred = model.predict(X_test)\n",
    "    return accuracy_score(y_test, y_pred)\n",
    "\n",
    "# Initialize models\n",
    "nb_model = MultinomialNB()\n",
    "rf_model = RandomForestClassifier(n_estimators=100, random_state=42)\n",
    "xgb_model = XGBClassifier(use_label_encoder=False, eval_metric='logloss')"
   ]
  },
  {
   "cell_type": "code",
   "execution_count": 8,
   "metadata": {},
   "outputs": [
    {
     "name": "stderr",
     "output_type": "stream",
     "text": [
      "c:\\Users\\HP\\AppData\\Local\\Programs\\Python\\Python312\\Lib\\site-packages\\xgboost\\core.py:158: UserWarning: [11:05:16] WARNING: C:\\buildkite-agent\\builds\\buildkite-windows-cpu-autoscaling-group-i-08cbc0333d8d4aae1-1\\xgboost\\xgboost-ci-windows\\src\\learner.cc:740: \n",
      "Parameters: { \"use_label_encoder\" } are not used.\n",
      "\n",
      "  warnings.warn(smsg, UserWarning)\n",
      "c:\\Users\\HP\\AppData\\Local\\Programs\\Python\\Python312\\Lib\\site-packages\\xgboost\\core.py:158: UserWarning: [11:05:17] WARNING: C:\\buildkite-agent\\builds\\buildkite-windows-cpu-autoscaling-group-i-08cbc0333d8d4aae1-1\\xgboost\\xgboost-ci-windows\\src\\learner.cc:740: \n",
      "Parameters: { \"use_label_encoder\" } are not used.\n",
      "\n",
      "  warnings.warn(smsg, UserWarning)\n",
      "c:\\Users\\HP\\AppData\\Local\\Programs\\Python\\Python312\\Lib\\site-packages\\xgboost\\core.py:158: UserWarning: [11:05:18] WARNING: C:\\buildkite-agent\\builds\\buildkite-windows-cpu-autoscaling-group-i-08cbc0333d8d4aae1-1\\xgboost\\xgboost-ci-windows\\src\\learner.cc:740: \n",
      "Parameters: { \"use_label_encoder\" } are not used.\n",
      "\n",
      "  warnings.warn(smsg, UserWarning)\n",
      "c:\\Users\\HP\\AppData\\Local\\Programs\\Python\\Python312\\Lib\\site-packages\\xgboost\\core.py:158: UserWarning: [11:05:20] WARNING: C:\\buildkite-agent\\builds\\buildkite-windows-cpu-autoscaling-group-i-08cbc0333d8d4aae1-1\\xgboost\\xgboost-ci-windows\\src\\learner.cc:740: \n",
      "Parameters: { \"use_label_encoder\" } are not used.\n",
      "\n",
      "  warnings.warn(smsg, UserWarning)\n"
     ]
    },
    {
     "data": {
      "text/plain": [
       "{'Naive Bayes (BoW, raw)': 0.97847533632287,\n",
       " 'Naive Bayes (BoW, cleaned)': 0.9757847533632287,\n",
       " 'Naive Bayes (TF-IDF, raw)': 0.9623318385650225,\n",
       " 'Naive Bayes (TF-IDF, cleaned)': 0.9506726457399103,\n",
       " 'Random Forest (BoW, raw)': 0.9748878923766816,\n",
       " 'Random Forest (BoW, cleaned)': 0.9713004484304932,\n",
       " 'Random Forest (TF-IDF, raw)': 0.9766816143497757,\n",
       " 'Random Forest (TF-IDF, cleaned)': 0.9721973094170404,\n",
       " 'XGBoost (BoW, raw)': 0.9775784753363229,\n",
       " 'XGBoost (BoW, cleaned)': 0.9757847533632287,\n",
       " 'XGBoost (TF-IDF, raw)': 0.9820627802690582,\n",
       " 'XGBoost (TF-IDF, cleaned)': 0.9766816143497757}"
      ]
     },
     "execution_count": 8,
     "metadata": {},
     "output_type": "execute_result"
    }
   ],
   "source": [
    "# Store results\n",
    "results = {\n",
    "    \"Naive Bayes (BoW, raw)\": train_and_evaluate(nb_model, X_train_bow_raw, X_test_bow_raw, y_train, y_test),\n",
    "    \"Naive Bayes (BoW, cleaned)\": train_and_evaluate(nb_model, X_train_bow_cleaned, X_test_bow_cleaned, y_train, y_test),\n",
    "    \"Naive Bayes (TF-IDF, raw)\": train_and_evaluate(nb_model, X_train_tfidf_raw, X_test_tfidf_raw, y_train, y_test),\n",
    "    \"Naive Bayes (TF-IDF, cleaned)\": train_and_evaluate(nb_model, X_train_tfidf_cleaned, X_test_tfidf_cleaned, y_train, y_test),\n",
    "    \"Random Forest (BoW, raw)\": train_and_evaluate(rf_model, X_train_bow_raw, X_test_bow_raw, y_train, y_test),\n",
    "    \"Random Forest (BoW, cleaned)\": train_and_evaluate(rf_model, X_train_bow_cleaned, X_test_bow_cleaned, y_train, y_test),\n",
    "    \"Random Forest (TF-IDF, raw)\": train_and_evaluate(rf_model, X_train_tfidf_raw, X_test_tfidf_raw, y_train, y_test),\n",
    "    \"Random Forest (TF-IDF, cleaned)\": train_and_evaluate(rf_model, X_train_tfidf_cleaned, X_test_tfidf_cleaned, y_train, y_test),\n",
    "    \"XGBoost (BoW, raw)\": train_and_evaluate(xgb_model, X_train_bow_raw, X_test_bow_raw, y_train, y_test),\n",
    "    \"XGBoost (BoW, cleaned)\": train_and_evaluate(xgb_model, X_train_bow_cleaned, X_test_bow_cleaned, y_train, y_test),\n",
    "    \"XGBoost (TF-IDF, raw)\": train_and_evaluate(xgb_model, X_train_tfidf_raw, X_test_tfidf_raw, y_train, y_test),\n",
    "    \"XGBoost (TF-IDF, cleaned)\": train_and_evaluate(xgb_model, X_train_tfidf_cleaned, X_test_tfidf_cleaned, y_train, y_test)\n",
    "}\n",
    "\n",
    "# Display results\n",
    "results"
   ]
  },
  {
   "cell_type": "code",
   "execution_count": null,
   "metadata": {},
   "outputs": [],
   "source": []
  }
 ],
 "metadata": {
  "kernelspec": {
   "display_name": "Python 3",
   "language": "python",
   "name": "python3"
  },
  "language_info": {
   "codemirror_mode": {
    "name": "ipython",
    "version": 3
   },
   "file_extension": ".py",
   "mimetype": "text/x-python",
   "name": "python",
   "nbconvert_exporter": "python",
   "pygments_lexer": "ipython3",
   "version": "3.12.6"
  }
 },
 "nbformat": 4,
 "nbformat_minor": 2
}
